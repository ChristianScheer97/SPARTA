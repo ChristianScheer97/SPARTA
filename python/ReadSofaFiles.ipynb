{
 "cells": [
  {
   "cell_type": "code",
   "execution_count": 1,
   "metadata": {},
   "outputs": [],
   "source": [
    "import pyfar as pf"
   ]
  },
  {
   "cell_type": "code",
   "execution_count": 2,
   "metadata": {},
   "outputs": [
    {
     "ename": "ValueError",
     "evalue": "../assets/BRIRs/WDRBroadcastStudios/BRIR_CR1_KU_MICS_multiSpeakerBRIR.sofa does not exist",
     "output_type": "error",
     "traceback": [
      "\u001b[1;31m---------------------------------------------------------------------------\u001b[0m",
      "\u001b[1;31mValueError\u001b[0m                                Traceback (most recent call last)",
      "Cell \u001b[1;32mIn[2], line 4\u001b[0m\n\u001b[0;32m      1\u001b[0m folder \u001b[39m=\u001b[39m \u001b[39m\"\u001b[39m\u001b[39m../assets/BRIRs/WDRBroadcastStudios/\u001b[39m\u001b[39m\"\u001b[39m\n\u001b[0;32m      2\u001b[0m filenames \u001b[39m=\u001b[39m [\u001b[39m\"\u001b[39m\u001b[39mBRIR_CR1_KU_MICS_multiSpeakerBRIR.sofa\u001b[39m\u001b[39m\"\u001b[39m, \u001b[39m\"\u001b[39m\u001b[39mBRIR_CR1_KU_MICS_SingleRoomMIMOSRIR_1.0.sofa\u001b[39m\u001b[39m\"\u001b[39m]\n\u001b[1;32m----> 4\u001b[0m multispeakerBRIR \u001b[39m=\u001b[39m pf\u001b[39m.\u001b[39;49mio\u001b[39m.\u001b[39;49mread_sofa(folder \u001b[39m+\u001b[39;49m filenames[\u001b[39m0\u001b[39;49m])\n\u001b[0;32m      5\u001b[0m singleRoomMIMOSROR \u001b[39m=\u001b[39m pf\u001b[39m.\u001b[39mio\u001b[39m.\u001b[39mread_sofa(folder \u001b[39m+\u001b[39m filenames[\u001b[39m1\u001b[39m])\n",
      "File \u001b[1;32mc:\\Users\\schee\\anaconda3\\envs\\firFilter\\lib\\site-packages\\pyfar\\io\\io.py:87\u001b[0m, in \u001b[0;36mread_sofa\u001b[1;34m(filename, verify)\u001b[0m\n\u001b[0;32m     36\u001b[0m \u001b[39mdef\u001b[39;00m \u001b[39mread_sofa\u001b[39m(filename, verify\u001b[39m=\u001b[39m\u001b[39mTrue\u001b[39;00m):\n\u001b[0;32m     37\u001b[0m \u001b[39m    \u001b[39m\u001b[39m\"\"\"\u001b[39;00m\n\u001b[0;32m     38\u001b[0m \u001b[39m    Import a SOFA file as pyfar object.\u001b[39;00m\n\u001b[0;32m     39\u001b[0m \n\u001b[1;32m   (...)\u001b[0m\n\u001b[0;32m     84\u001b[0m \n\u001b[0;32m     85\u001b[0m \u001b[39m    \"\"\"\u001b[39;00m\n\u001b[1;32m---> 87\u001b[0m     sofa \u001b[39m=\u001b[39m sf\u001b[39m.\u001b[39;49mread_sofa(filename, verify)\n\u001b[0;32m     88\u001b[0m     \u001b[39mreturn\u001b[39;00m convert_sofa(sofa)\n",
      "File \u001b[1;32mc:\\Users\\schee\\anaconda3\\envs\\firFilter\\lib\\site-packages\\sofar\\io.py:59\u001b[0m, in \u001b[0;36mread_sofa\u001b[1;34m(filename, verify, verbose)\u001b[0m\n\u001b[0;32m     57\u001b[0m     \u001b[39mraise\u001b[39;00m \u001b[39mValueError\u001b[39;00m(\u001b[39m\"\u001b[39m\u001b[39mFilename must end with .sofa\u001b[39m\u001b[39m\"\u001b[39m)\n\u001b[0;32m     58\u001b[0m \u001b[39mif\u001b[39;00m \u001b[39mnot\u001b[39;00m os\u001b[39m.\u001b[39mpath\u001b[39m.\u001b[39misfile(filename):\n\u001b[1;32m---> 59\u001b[0m     \u001b[39mraise\u001b[39;00m \u001b[39mValueError\u001b[39;00m(\u001b[39mf\u001b[39m\u001b[39m\"\u001b[39m\u001b[39m{\u001b[39;00mfilename\u001b[39m}\u001b[39;00m\u001b[39m does not exist\u001b[39m\u001b[39m\"\u001b[39m)\n\u001b[0;32m     61\u001b[0m \u001b[39m# attributes that are skipped\u001b[39;00m\n\u001b[0;32m     62\u001b[0m skip \u001b[39m=\u001b[39m [\u001b[39m\"\u001b[39m\u001b[39m_Encoding\u001b[39m\u001b[39m\"\u001b[39m]\n",
      "\u001b[1;31mValueError\u001b[0m: ../assets/BRIRs/WDRBroadcastStudios/BRIR_CR1_KU_MICS_multiSpeakerBRIR.sofa does not exist"
     ]
    }
   ],
   "source": [
    "folder = \"../assets/BRIRs/WDRBroadcastStudios/\"\n",
    "filenames = [\"BRIR_CR1_KU_MICS_multiSpeakerBRIR.sofa\", \"BRIR_CR1_KU_MICS_SingleRoomMIMOSRIR_1.0.sofa\"]\n",
    "\n",
    "multispeakerBRIR = pf.io.read_sofa(folder + filenames[0])\n",
    "singleRoomMIMOSROR = pf.io.read_sofa(folder + filenames[1])"
   ]
  }
 ],
 "metadata": {
  "kernelspec": {
   "display_name": "roomSpatialiser",
   "language": "python",
   "name": "python3"
  },
  "language_info": {
   "codemirror_mode": {
    "name": "ipython",
    "version": 3
   },
   "file_extension": ".py",
   "mimetype": "text/x-python",
   "name": "python",
   "nbconvert_exporter": "python",
   "pygments_lexer": "ipython3",
   "version": "3.10.9"
  },
  "orig_nbformat": 4
 },
 "nbformat": 4,
 "nbformat_minor": 2
}
